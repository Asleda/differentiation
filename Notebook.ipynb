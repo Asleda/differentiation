{
 "cells": [
  {
   "cell_type": "code",
   "execution_count": 1,
   "metadata": {
    "collapsed": false
   },
   "outputs": [],
   "source": [
    "%matplotlib inline\n",
    "\n",
    "from __future__ import print_function\n",
    "from __future__ import division\n",
    "\n",
    "import mnist\n",
    "import numpy as np\n",
    "np.random.seed(67)\n",
    "\n",
    "import seaborn as sns\n",
    "import matplotlib.pyplot as plt\n",
    "\n",
    "from tqdm import tnrange, tqdm_notebook\n",
    "\n",
    "sns.set_style('whitegrid')\n",
    "sns.set_context('notebook', font_scale=1.0)"
   ]
  },
  {
   "cell_type": "code",
   "execution_count": 59,
   "metadata": {
    "collapsed": false
   },
   "outputs": [],
   "source": [
    "def softmax(x):\n",
    "    exp_x = np.exp(x)\n",
    "    return exp_x / np.sum(exp_x, axis=1, keepdims=True)\n",
    "\n",
    "def softmax_d(x):\n",
    "    return x * (1 - x)\n",
    "\n",
    "def tanh(x):\n",
    "    return np.tanh(x)\n",
    "\n",
    "def tanh_d(x):\n",
    "    return 1 - np.square(x)\n",
    "\n",
    "def relu(x):\n",
    "    return np.where(x > 0, x, 0)\n",
    "\n",
    "def relu_d(x):\n",
    "    return np.where(x > 0, 1, 0)\n",
    "\n",
    "def he_init(fan_in, gain=1.0):\n",
    "    return np.sqrt(gain / fan_in)\n",
    "\n",
    "def l1(W):\n",
    "    return np.sum(np.abs(W))\n",
    "\n",
    "def l2(W):\n",
    "    return np.sum(np.square(W))\n",
    "\n",
    "def cross_entropy(y_preds, y_labels):\n",
    "    return np.mean(-np.sum(y_labels * np.log(y_preds + 1e-7), axis=1))\n",
    "\n",
    "def one_hot(indices, num_labels):\n",
    "    return np.eye(num_labels)[indices]\n",
    "\n",
    "def label_accuracy(y_probs, y_labels):\n",
    "    y_ = np.argmax(y_probs, axis=1)\n",
    "    y = np.argmax(y_labels, axis=1)\n",
    "    accuracy = np.mean(np.equal(y_, y))\n",
    "    return accuracy"
   ]
  },
  {
   "cell_type": "code",
   "execution_count": 90,
   "metadata": {
    "collapsed": false
   },
   "outputs": [],
   "source": [
    "train_images = mnist.read_images('train-images-idx3-ubyte')\n",
    "train_labels = mnist.read_labels('train-labels-idx1-ubyte')\n",
    "test_images = mnist.read_images('t10k-images-idx3-ubyte')\n",
    "test_labels = mnist.read_labels('t10k-labels-idx1-ubyte')\n",
    "\n",
    "train_images = train_images.reshape((-1, 784))\n",
    "test_images = test_images.reshape((-1, 784))\n",
    "\n",
    "train_labels = one_hot(train_labels, 10)\n",
    "test_labels = one_hot(test_labels, 10)"
   ]
  },
  {
   "cell_type": "code",
   "execution_count": 101,
   "metadata": {
    "collapsed": false
   },
   "outputs": [
    {
     "name": "stdout",
     "output_type": "stream",
     "text": [
      "\n"
     ]
    }
   ],
   "source": [
    "# constants\n",
    "num_epochs = 10\n",
    "batch_size = 32\n",
    "learning_rate = 1e-4\n",
    "regularization_strength = 1e-2\n",
    "\n",
    "# parameters\n",
    "W0 = np.random.normal(scale=1e-3, size=(784, 300))\n",
    "W1 = np.random.normal(scale=1e-3, size=(300, 10))\n",
    "b0 = np.zeros(shape=(300,))\n",
    "b1 = np.zeros(shape=(10,))\n",
    "\n",
    "num_train = len(train_labels)\n",
    "num_test = len(test_labels)\n",
    "\n",
    "num_batches = num_train // batch_size\n",
    "\n",
    "with tnrange(num_epochs) as pbar_epoch:\n",
    "    epoch_losses = []\n",
    "    epoch_accuracies = []\n",
    "    for epoch in pbar_epoch:\n",
    "        batch_loss = 0\n",
    "        batch_accuracy = 0\n",
    "        with tnrange(num_batches, leave=False) as pbar_batch:\n",
    "            for batch_index in pbar_batch:\n",
    "                batch_start = batch_index * batch_size\n",
    "                batch_end = batch_start + batch_size\n",
    "\n",
    "                X = train_images[batch_start:batch_end]\n",
    "                y = train_labels[batch_start:batch_end]\n",
    "\n",
    "                # forward prop\n",
    "                h0_logits = np.dot(X, W0) + b0\n",
    "                h0 = relu(h0_logits)\n",
    "                h1_logits = np.dot(h0, W1) + b1\n",
    "                h1 = softmax(h1_logits)\n",
    "                \n",
    "                # backprop\n",
    "                delta1 = h1 - y\n",
    "                dW1 = np.dot(h0.T, delta1)\n",
    "                db1 = np.sum(delta1, axis=0)\n",
    "\n",
    "                delta0 = delta1.dot(W1.T) * relu_d(h0)\n",
    "                dW0 = np.dot(X.T, delta0)\n",
    "                db0 = np.sum(delta0, axis=0)\n",
    "\n",
    "                dW1 += (regularization_strength / batch_size) * W1\n",
    "                dW0 += (regularization_strength / batch_size) * W0\n",
    "\n",
    "                # gradient descent\n",
    "                W0 += -learning_rate * dW0\n",
    "                b0 += -learning_rate * db0\n",
    "\n",
    "                W1 += -learning_rate * dW1\n",
    "                b1 += -learning_rate * db1\n",
    "\n",
    "                # loss\n",
    "                loss = cross_entropy(h1, y)\n",
    "                loss += (regularization_strength / (batch_size * 2)) * np.sum([l2(W0), l2(W1)])                \n",
    "                accuracy = label_accuracy(h1, y)\n",
    "\n",
    "                batch_loss += loss\n",
    "                batch_accuracy += accuracy\n",
    "\n",
    "                loss_mean = batch_loss / (batch_index + 1)\n",
    "                accuracy_mean = batch_accuracy / (batch_index + 1)\n",
    "                pbar_batch.set_description('loss: {:.8f}, accuracy: {:.2f}'.format(loss_mean, accuracy_mean))\n",
    "\n",
    "        epoch_losses.append(loss_mean)\n",
    "        epoch_accuracies.append(accuracy_mean)\n",
    "        pbar_epoch.set_description('loss: {:.8f}, accuracy: {:.2f}'.format(loss_mean, accuracy_mean))"
   ]
  },
  {
   "cell_type": "code",
   "execution_count": 102,
   "metadata": {
    "collapsed": false
   },
   "outputs": [
    {
     "name": "stdout",
     "output_type": "stream",
     "text": [
      "loss: 0.18372094, accuracy: 0.97\n"
     ]
    }
   ],
   "source": [
    "X = test_images\n",
    "y = test_labels\n",
    "\n",
    "h0_logits = np.dot(X, W0) + b0\n",
    "h0 = relu(h0_logits)\n",
    "h1_logits = np.dot(h0, W1) + b1\n",
    "h1 = softmax(h1_logits)\n",
    "\n",
    "loss = cross_entropy(h1, y)\n",
    "accuracy = label_accuracy(h1, y)\n",
    "print('loss: {:.8f}, accuracy: {:.2f}'.format(loss, accuracy))"
   ]
  },
  {
   "cell_type": "code",
   "execution_count": 103,
   "metadata": {
    "collapsed": false
   },
   "outputs": [
    {
     "data": {
      "text/plain": [
       "<matplotlib.text.Text at 0x10f8bd310>"
      ]
     },
     "execution_count": 103,
     "metadata": {},
     "output_type": "execute_result"
    },
    {
     "data": {
      "image/png": "[encoded data removed]",
      "text/plain": [
       "<matplotlib.figure.Figure at 0x10f539cd0>"
      ]
     },
     "metadata": {},
     "output_type": "display_data"
    }
   ],
   "source": [
    "fig, (ax1, ax2) = plt.subplots(1, 2, figsize=(16, 4))\n",
    "ax1.plot(epoch_losses)\n",
    "ax2.plot(epoch_accuracies)\n",
    "ax1.set_title('Loss')\n",
    "ax2.set_title('Accuracy')"
   ]
  },
  {
   "cell_type": "code",
   "execution_count": null,
   "metadata": {
    "collapsed": true
   },
   "outputs": [],
   "source": []
  }
 ],
 "metadata": {
  "kernelspec": {
   "display_name": "Python 2",
   "language": "python",
   "name": "python2"
  },
  "language_info": {
   "codemirror_mode": {
    "name": "ipython",
    "version": 2
   },
   "file_extension": ".py",
   "mimetype": "text/x-python",
   "name": "python",
   "nbconvert_exporter": "python",
   "pygments_lexer": "ipython2",
   "version": "2.7.10"
  },
  "widgets": {
   "state": {
    "001d408228854d11b0afc595ba5e570d": {
     "views": [
      {
       "cell_index": 3
      }
     ]
    },
    "0021422296924497a2b9c9bdb8317e8e": {
     "views": [
      {
       "cell_index": 3
      }
     ]
    },
    "00e0d75415804d359b518658501ac4a1": {
     "views": [
      {
       "cell_index": 3
      }
     ]
    },
    "0773718e96a64c5facb482e26a42b5e8": {
     "views": [
      {
       "cell_index": 3
      }
     ]
    },
    "08ff60089a0b4d2aa443c5f13ae6cb29": {
     "views": [
      {
       "cell_index": 3
      }
     ]
    },
    "09e601bc05f040dfaefd3a1ff4bb6a73": {
     "views": [
      {
       "cell_index": 3
      }
     ]
    },
    "0a90cbdfc7ed40eea9f1e4461a090ee1": {
     "views": [
      {
       "cell_index": 3
      }
     ]
    },
    "0ac3a3b5c7dc45859a78a2c25e7402e6": {
     "views": [
      {
       "cell_index": 3
      }
     ]
    },
    "0b0d7c4d53f64f559ab7b71492c90fbc": {
     "views": [
      {
       "cell_index": 3
      }
     ]
    },
    "0bd45ebf3185473296417c2dbaf65aaa": {
     "views": [
      {
       "cell_index": 3
      }
     ]
    },
    "0bfb0558b54a406b830b05d2945ca7e6": {
     "views": [
      {
       "cell_index": 3
      }
     ]
    },
    "0c54359f33124e0ab1dd6dd1afa9e6de": {
     "views": [
      {
       "cell_index": 3
      }
     ]
    },
    "0cd64708d72648e9adae6272c6fbdd9c": {
     "views": [
      {
       "cell_index": 3
      }
     ]
    },
    "0d5ca17a84a44ba2bfb7f8ed38518701": {
     "views": [
      {
       "cell_index": 3
      }
     ]
    },
    "0d7a50d3c130416eae0ebf116e5fb418": {
     "views": [
      {
       "cell_index": 3
      }
     ]
    },
    "100b9781957a41f78e0d0f8ef0fbab60": {
     "views": [
      {
       "cell_index": 3
      }
     ]
    },
    "10156ec8eabe4ebabc3495b1d5e53509": {
     "views": [
      {
       "cell_index": 3
      }
     ]
    },
    "10880e908fd2461caea7b43f86f8631e": {
     "views": [
      {
       "cell_index": 3
      }
     ]
    },
    "1312a7cadedb418682c9e5fcfec79b59": {
     "views": [
      {
       "cell_index": 3
      }
     ]
    },
    "13638a215c3f493497732a9e7fc344e3": {
     "views": [
      {
       "cell_index": 3
      }
     ]
    },
    "13da635b0ff34a79bfad9de879cc298d": {
     "views": [
      {
       "cell_index": 3
      }
     ]
    },
    "14ca690a76524f29914fb63afcc100d6": {
     "views": [
      {
       "cell_index": 3
      }
     ]
    },
    "155f5ce849a144b99c4e77f2030a3253": {
     "views": [
      {
       "cell_index": 3
      }
     ]
    },
    "15ad119deb3b40bc8d37f7ede92dc049": {
     "views": [
      {
       "cell_index": 3
      }
     ]
    },
    "15fbf321e7a541f9888c8b3b8cab4649": {
     "views": [
      {
       "cell_index": 3
      }
     ]
    },
    "16618819e35947edaec4c7f774b0a45e": {
     "views": [
      {
       "cell_index": 3
      }
     ]
    },
    "1a206113155c410b8179ad761e0cd681": {
     "views": [
      {
       "cell_index": 3
      }
     ]
    },
    "1abc1f807b6147cfbfe80f8b8d6d38dd": {
     "views": [
      {
       "cell_index": 3
      }
     ]
    },
    "1c3413b0cf854bacb95226ff0f189c3e": {
     "views": [
      {
       "cell_index": 3
      }
     ]
    },
    "1d613d1d94a14b5cb71b7b88270fdd8b": {
     "views": [
      {
       "cell_index": 3
      }
     ]
    },
    "1dbbde3b787e44c18da0c3c5cff7ed35": {
     "views": [
      {
       "cell_index": 3
      }
     ]
    },
    "1dcb5a33a81e4244b25cc521a9aeef9f": {
     "views": [
      {
       "cell_index": 3
      }
     ]
    },
    "1f6807f14fdc48c39333c90dcd863355": {
     "views": [
      {
       "cell_index": 3
      }
     ]
    },
    "1fad135f77214cbab4e552591a281b9b": {
     "views": [
      {
       "cell_index": 3
      }
     ]
    },
    "2040b1386afc46dfad31a882ecdedfad": {
     "views": [
      {
       "cell_index": 3
      }
     ]
    },
    "20abc45d7e634d19924d0e75cb80196a": {
     "views": [
      {
       "cell_index": 3
      }
     ]
    },
    "21a4e45830824a52945b9538e9e2913e": {
     "views": [
      {
       "cell_index": 3
      }
     ]
    },
    "220d06e4311f44d89a14e16d87004fd8": {
     "views": [
      {
       "cell_index": 3
      }
     ]
    },
    "2693439f2916457d8ddcbba2bb075ae2": {
     "views": [
      {
       "cell_index": 3
      }
     ]
    },
    "2694939c49394f53b046ed455bd5e37e": {
     "views": [
      {
       "cell_index": 3
      }
     ]
    },
    "2b848bf81db246769b8f0979c2451640": {
     "views": [
      {
       "cell_index": 3
      }
     ]
    },
    "2d10ae13d35c40eb91c37c71260d77aa": {
     "views": [
      {
       "cell_index": 3
      }
     ]
    },
    "2e0a42f49f204735a206636b60621203": {
     "views": [
      {
       "cell_index": 3
      }
     ]
    },
    "3006c906216143348b7ea4062ea99deb": {
     "views": [
      {
       "cell_index": 3
      }
     ]
    },
    "3118cfbad2984c1caae3b6a288cca181": {
     "views": [
      {
       "cell_index": 3
      }
     ]
    },
    "321dbd0ccba742bfa0fcb8ae61b858c9": {
     "views": [
      {
       "cell_index": 3
      }
     ]
    },
    "32c64d57d4514358aa7ed645ee91e162": {
     "views": [
      {
       "cell_index": 3
      }
     ]
    },
    "333d94da4c4548d1aaeed954f93a7c3b": {
     "views": [
      {
       "cell_index": 3
      }
     ]
    },
    "33d63bf6ba00486fbfb97c9e7d087afa": {
     "views": [
      {
       "cell_index": 3
      }
     ]
    },
    "342feed0e4434f57b325445c22678250": {
     "views": [
      {
       "cell_index": 3
      }
     ]
    },
    "34dc25181db144f2b497a8bb1dd1e2ef": {
     "views": [
      {
       "cell_index": 3
      }
     ]
    },
    "363a0c2b19f24a7c98ace34d8b2f734e": {
     "views": [
      {
       "cell_index": 3
      }
     ]
    },
    "36fbdebdc9bc45eb870b4ba2e330fd6e": {
     "views": [
      {
       "cell_index": 3
      }
     ]
    },
    "3af98902171d4a25a634d191056db8d8": {
     "views": [
      {
       "cell_index": 3
      }
     ]
    },
    "3bc343e651fb4d3cb5a17a2659ed000d": {
     "views": [
      {
       "cell_index": 3
      }
     ]
    },
    "3da0768fe8f845a68f49cf0333da4178": {
     "views": [
      {
       "cell_index": 3
      }
     ]
    },
    "426f50a65c944d33848a63cf5c8ac38f": {
     "views": [
      {
       "cell_index": 3
      }
     ]
    },
    "43832f22cea24b9fa63a97c37dd57824": {
     "views": [
      {
       "cell_index": 3
      }
     ]
    },
    "43f0575faf2c4a56bd176529193fc352": {
     "views": [
      {
       "cell_index": 3
      }
     ]
    },
    "4650b72cf1b841378eb89cc6be387a7a": {
     "views": [
      {
       "cell_index": 4
      }
     ]
    },
    "46ccb3e1f3b64397a044d65863c70d63": {
     "views": [
      {
       "cell_index": 3
      }
     ]
    },
    "49d567d57012416ebb0236a6d7447d0e": {
     "views": [
      {
       "cell_index": 3
      }
     ]
    },
    "4c7a7becf70a40ea80973d038a80bb3c": {
     "views": [
      {
       "cell_index": 3
      }
     ]
    },
    "4da59402c4dd464dad435b67d9815d01": {
     "views": [
      {
       "cell_index": 3
      }
     ]
    },
    "50205864c0e948879c93ca1fd10c1fc1": {
     "views": [
      {
       "cell_index": 3
      }
     ]
    },
    "52422e575cba4807bb14d5b634d44008": {
     "views": [
      {
       "cell_index": 3
      }
     ]
    },
    "5484ad08c78046ef92137d4c44e86529": {
     "views": [
      {
       "cell_index": 3
      }
     ]
    },
    "54b0556d67724f169e2e41962a3c5cef": {
     "views": [
      {
       "cell_index": 3
      }
     ]
    },
    "55a8d0bcec23425facf718c628af14bd": {
     "views": [
      {
       "cell_index": 3
      }
     ]
    },
    "57ed2b76386a4745bbf928069e5f11d6": {
     "views": [
      {
       "cell_index": 3
      }
     ]
    },
    "57ef22b7167b4dd091b1472f3f9a5225": {
     "views": [
      {
       "cell_index": 3
      }
     ]
    },
    "5870810707a34e4d9b1708e2ecff9084": {
     "views": [
      {
       "cell_index": 3
      }
     ]
    },
    "58b19d1bfc804cc4b088924bae6de43d": {
     "views": [
      {
       "cell_index": 3
      }
     ]
    },
    "59cd4a94769d4f14a8df884fae065a61": {
     "views": [
      {
       "cell_index": 3
      }
     ]
    },
    "5afc55d2f56c44bcbb3bc6b79c28dfa7": {
     "views": [
      {
       "cell_index": 3
      }
     ]
    },
    "5bed6bd412dc49d985f5240373e5166a": {
     "views": [
      {
       "cell_index": 3
      }
     ]
    },
    "5e1201391ac9475788974d43d37f917b": {
     "views": [
      {
       "cell_index": 3
      }
     ]
    },
    "5e1ad9be9e4242efb8d51ae9b7973205": {
     "views": [
      {
       "cell_index": 3
      }
     ]
    },
    "5ea606ab9f2040c9930b715fcf19d411": {
     "views": [
      {
       "cell_index": 3
      }
     ]
    },
    "5eb71c4001fa4285a9ba17ef7adc0fe3": {
     "views": [
      {
       "cell_index": 3
      }
     ]
    },
    "60852a9e65fd46ec94925f5bab985f5c": {
     "views": [
      {
       "cell_index": 3
      }
     ]
    },
    "60a58d28ef6c4ce08c85a3157a19994f": {
     "views": [
      {
       "cell_index": 3
      }
     ]
    },
    "60e37280a994466db3035732e8d2f96e": {
     "views": [
      {
       "cell_index": 3
      }
     ]
    },
    "6254d5c6ad3d4e8c8826e60199d85d39": {
     "views": [
      {
       "cell_index": 3
      }
     ]
    },
    "6362f923919145299295d0c5aaac48e0": {
     "views": [
      {
       "cell_index": 3
      }
     ]
    },
    "63c35a1c02cf4e90b9aa0e2ddae9e8b8": {
     "views": [
      {
       "cell_index": 3
      }
     ]
    },
    "663b18fa61864c4f8272154a93c980d3": {
     "views": [
      {
       "cell_index": 3
      }
     ]
    },
    "681fa0d6b9d54fc191c4b9b514d2740d": {
     "views": [
      {
       "cell_index": 3
      }
     ]
    },
    "686e3451eab442278eaa85a2d094f12a": {
     "views": [
      {
       "cell_index": 3
      }
     ]
    },
    "68c71b3f5ea240cfa00e5ccede07c2fc": {
     "views": [
      {
       "cell_index": 3
      }
     ]
    },
    "68f042a875934e06adad5e2905f30d09": {
     "views": [
      {
       "cell_index": 3
      }
     ]
    },
    "6ce6936da452433b8b1c344224b383e3": {
     "views": [
      {
       "cell_index": 3
      }
     ]
    },
    "6e8ddf58b9de4a3a93db1435815018e0": {
     "views": [
      {
       "cell_index": 3
      }
     ]
    },
    "6f1016aad1694359832afdda038cc51f": {
     "views": [
      {
       "cell_index": 3
      }
     ]
    },
    "7059b81aabcf45dcad1bd24812e9ec63": {
     "views": [
      {
       "cell_index": 3
      }
     ]
    },
    "710646a285cd4858b067a008f1beb0c4": {
     "views": [
      {
       "cell_index": 3
      }
     ]
    },
    "7193266936c44a47aa9526f776f2466c": {
     "views": [
      {
       "cell_index": 3
      }
     ]
    },
    "7be98c00c11a4286a79d314846c26e34": {
     "views": [
      {
       "cell_index": 3
      }
     ]
    },
    "7c68f5e8d12b4976b4bfe2ac6e06bdbb": {
     "views": [
      {
       "cell_index": 3
      }
     ]
    },
    "7c7d6f34df664444a4cdf6369a0fa66f": {
     "views": [
      {
       "cell_index": 3
      }
     ]
    },
    "7ec792a447c14a58b6e5ffbf8447a0b7": {
     "views": [
      {
       "cell_index": 3
      }
     ]
    },
    "7fc7494ff803467a9d32955584f01d20": {
     "views": [
      {
       "cell_index": 3
      }
     ]
    },
    "81c4bda88cd54c078f44ebb243299026": {
     "views": [
      {
       "cell_index": 3
      }
     ]
    },
    "81d367c0146e45beb2882a76e068fdd4": {
     "views": [
      {
       "cell_index": 3
      }
     ]
    },
    "81f5a57b93a64d6291d9d21a43ba517e": {
     "views": [
      {
       "cell_index": 3
      }
     ]
    },
    "82182f2fca3349a08831e437b06bc842": {
     "views": [
      {
       "cell_index": 3
      }
     ]
    },
    "824c46990bd346b2be5d0f6d0e15cec5": {
     "views": [
      {
       "cell_index": 3
      }
     ]
    },
    "829a365cdc4d4577be050505f7180d6d": {
     "views": [
      {
       "cell_index": 3
      }
     ]
    },
    "8388a026316c4664a0545669a3de26c7": {
     "views": [
      {
       "cell_index": 3
      }
     ]
    },
    "83e953a7afd74b8abeae11fbe0093667": {
     "views": [
      {
       "cell_index": 3
      }
     ]
    },
    "84525c10d47149058196dea4b282c2ea": {
     "views": [
      {
       "cell_index": 3
      }
     ]
    },
    "849b5e8faaf843e79410915f8dac7f5e": {
     "views": [
      {
       "cell_index": 3
      }
     ]
    },
    "85eb4985f22a452aba98ef82217c3e02": {
     "views": [
      {
       "cell_index": 3
      }
     ]
    },
    "8717db9ce75f4f30b752f75b4f4c5aba": {
     "views": [
      {
       "cell_index": 3
      }
     ]
    },
    "8725cf74c41348cf89d1df4e364578b7": {
     "views": [
      {
       "cell_index": 3
      }
     ]
    },
    "8911e8d68082437f8e327b03d5f17837": {
     "views": [
      {
       "cell_index": 3
      }
     ]
    },
    "89bdc2aee8f944ccbfb70bbcc18bc4e4": {
     "views": [
      {
       "cell_index": 3
      }
     ]
    },
    "89fa9d0b5489468a943ad9623d4f5523": {
     "views": [
      {
       "cell_index": 3
      }
     ]
    },
    "8a157b40c6b940b7aefd0fe423b433a4": {
     "views": [
      {
       "cell_index": 3
      }
     ]
    },
    "8ad40a0653c341ba9f695defe00c4ed5": {
     "views": [
      {
       "cell_index": 3
      }
     ]
    },
    "8bad7cae2269455ca48b940d147cf7ad": {
     "views": [
      {
       "cell_index": 3
      }
     ]
    },
    "8c1c4b6469134eb0b6f67f66a07f4e20": {
     "views": [
      {
       "cell_index": 3
      }
     ]
    },
    "8d800c35f6b143b9944e9efffc8465f2": {
     "views": [
      {
       "cell_index": 3
      }
     ]
    },
    "900a065fb3934e38860d6f67881644b1": {
     "views": [
      {
       "cell_index": 3
      }
     ]
    },
    "90d94156930a4a57874f3fdba165df0f": {
     "views": [
      {
       "cell_index": 3
      }
     ]
    },
    "91c71181d6eb4671a464850dbf2f2eeb": {
     "views": [
      {
       "cell_index": 3
      }
     ]
    },
    "9234a5e7358b4f76b408dc7b67a4cb03": {
     "views": [
      {
       "cell_index": 3
      }
     ]
    },
    "92a32fc10b5c4df1983d30be56553130": {
     "views": [
      {
       "cell_index": 3
      }
     ]
    },
    "931e00c94acf444a8410bf4923a8ad48": {
     "views": [
      {
       "cell_index": 3
      }
     ]
    },
    "933a4647f526440bb60432659f3cafe0": {
     "views": [
      {
       "cell_index": 3
      }
     ]
    },
    "982172cec5c043a0aaf828a0b24efee5": {
     "views": [
      {
       "cell_index": 3
      }
     ]
    },
    "9861d4fc0e1f46528e180652b6c4e0a5": {
     "views": [
      {
       "cell_index": 3
      }
     ]
    },
    "98a456f886364da7a9c9fc689450028c": {
     "views": [
      {
       "cell_index": 3
      }
     ]
    },
    "99ca9abc645c47fc936deebe7aa872b9": {
     "views": [
      {
       "cell_index": 3
      }
     ]
    },
    "9b0485b5ff8d4c14aed4f534f7c7bd42": {
     "views": [
      {
       "cell_index": 3
      }
     ]
    },
    "9b084c6cb04f4d8e8fd0daff74333c62": {
     "views": [
      {
       "cell_index": 3
      }
     ]
    },
    "9bb3de2a2f9a48fb97027425b5790587": {
     "views": [
      {
       "cell_index": 3
      }
     ]
    },
    "9fd38984edf34d35a8ae42a034ad0f49": {
     "views": [
      {
       "cell_index": 3
      }
     ]
    },
    "a026b85058f7412183033847092f3aae": {
     "views": [
      {
       "cell_index": 3
      }
     ]
    },
    "a1ced87c766d4481be0bb98440cf2c63": {
     "views": [
      {
       "cell_index": 3
      }
     ]
    },
    "a3d5f49e3722482bbe51ee4626d70c21": {
     "views": [
      {
       "cell_index": 3
      }
     ]
    },
    "a41a3532c9ca4aa8bbed19ce216d28c8": {
     "views": [
      {
       "cell_index": 3
      }
     ]
    },
    "a4f1e2477bcf4969a15d11da491ff92e": {
     "views": [
      {
       "cell_index": 3
      }
     ]
    },
    "a621c608e6984d87a1e85f962f85447e": {
     "views": [
      {
       "cell_index": 3
      }
     ]
    },
    "a62af00324d94c14a588f01c2160ba95": {
     "views": [
      {
       "cell_index": 3
      }
     ]
    },
    "a783953fc43c4e1ab07831a571a6e47b": {
     "views": [
      {
       "cell_index": 3
      }
     ]
    },
    "a84111bd2b0843d18ac70923095a235f": {
     "views": [
      {
       "cell_index": 3
      }
     ]
    },
    "a923f027f1184f92b1dbb9769366d968": {
     "views": [
      {
       "cell_index": 3
      }
     ]
    },
    "a97cbf81809b480ab4fe678c5eae2a83": {
     "views": [
      {
       "cell_index": 3
      }
     ]
    },
    "aa005d8bb2e448948f111c9b58def902": {
     "views": [
      {
       "cell_index": 3
      }
     ]
    },
    "ac4c4cb4346440559710c7d026af8b8d": {
     "views": [
      {
       "cell_index": 3
      }
     ]
    },
    "ada1e82684024d098de740be6fe7472b": {
     "views": [
      {
       "cell_index": 3
      }
     ]
    },
    "ae7f1726217e4b37ae8694f2d411b911": {
     "views": [
      {
       "cell_index": 3
      }
     ]
    },
    "aea9e424a4b942d6995d0126308716f3": {
     "views": [
      {
       "cell_index": 3
      }
     ]
    },
    "af08160fbf5a4a3ab01ab30bb09de3ea": {
     "views": [
      {
       "cell_index": 3
      }
     ]
    },
    "af74cb720eb04781926490a4dc3eba55": {
     "views": [
      {
       "cell_index": 3
      }
     ]
    },
    "aff7925526ef4b518657b32e3214faa2": {
     "views": [
      {
       "cell_index": 3
      }
     ]
    },
    "b21b8d2323314930ab771d68c215db9e": {
     "views": [
      {
       "cell_index": 3
      }
     ]
    },
    "b298cf5c17754e739698ed3a95b1a92f": {
     "views": [
      {
       "cell_index": 3
      }
     ]
    },
    "b305353d3b91414fa070f371abb1ca19": {
     "views": [
      {
       "cell_index": 3
      }
     ]
    },
    "b34a6756b711445c87315a0fb87bfa3c": {
     "views": [
      {
       "cell_index": 3
      }
     ]
    },
    "b583ae6436c74e0c92e852bbc15839f4": {
     "views": [
      {
       "cell_index": 3
      }
     ]
    },
    "b618ded1d6264caa854464ac8b5fbbf1": {
     "views": [
      {
       "cell_index": 3
      }
     ]
    },
    "b6c0bba0e5014c1faf6ee0f83fe62aa2": {
     "views": [
      {
       "cell_index": 3
      }
     ]
    },
    "b82abb84bb5f4800aa58efeb910a913b": {
     "views": [
      {
       "cell_index": 3
      }
     ]
    },
    "b85af62a732447829c5a731c51976ba5": {
     "views": [
      {
       "cell_index": 3
      }
     ]
    },
    "b92fae18cc06495281e0b45d944b40b8": {
     "views": [
      {
       "cell_index": 3
      }
     ]
    },
    "b945f6358ad7416b92c32797649631f7": {
     "views": [
      {
       "cell_index": 3
      }
     ]
    },
    "b94b0c116b994258ba4e45f6411745bb": {
     "views": [
      {
       "cell_index": 3
      }
     ]
    },
    "b97708e4cb8c4d21a7f6ff709bb0d079": {
     "views": [
      {
       "cell_index": 3
      }
     ]
    },
    "baed272eab1545ae9426691ff7528eda": {
     "views": [
      {
       "cell_index": 3
      }
     ]
    },
    "bcf6f889ceb343fd83a95c3349e60ba1": {
     "views": [
      {
       "cell_index": 3
      }
     ]
    },
    "beedb35dbefc4a9b8a12b46f24f4415e": {
     "views": [
      {
       "cell_index": 3
      }
     ]
    },
    "bfa050cb99004854b4b6d9cce91bbb9b": {
     "views": [
      {
       "cell_index": 3
      }
     ]
    },
    "c0019f5d58324382832bc8330a14b632": {
     "views": [
      {
       "cell_index": 3
      }
     ]
    },
    "c109936a170c470580c7e2d6a5be1167": {
     "views": [
      {
       "cell_index": 3
      }
     ]
    },
    "c24129e10d6a4e238f73fedf8894fc63": {
     "views": [
      {
       "cell_index": 3
      }
     ]
    },
    "c2699ec6c22840c78470529cc6ffd642": {
     "views": [
      {
       "cell_index": 3
      }
     ]
    },
    "c27a2beda3954b4fa519fd1c232773cd": {
     "views": [
      {
       "cell_index": 3
      }
     ]
    },
    "c27b755ff2244a08aac57c7702a5b618": {
     "views": [
      {
       "cell_index": 3
      }
     ]
    },
    "c28afb4a107d4691bbea0f663a8e0e8a": {
     "views": [
      {
       "cell_index": 3
      }
     ]
    },
    "c5aae488ae7d44f091a42ef2fb350216": {
     "views": [
      {
       "cell_index": 3
      }
     ]
    },
    "c5e01e59919543a1af98044ddf7a689e": {
     "views": [
      {
       "cell_index": 3
      }
     ]
    },
    "c6722f9441714420ad75903b5755fea3": {
     "views": [
      {
       "cell_index": 3
      }
     ]
    },
    "c84173c132934a3d93f97670ccc37bd0": {
     "views": [
      {
       "cell_index": 3
      }
     ]
    },
    "cd4734417d5849f099ad8cdab000c6a0": {
     "views": [
      {
       "cell_index": 3
      }
     ]
    },
    "cdf7a9f055c64a389e811c124accb1bd": {
     "views": [
      {
       "cell_index": 3
      }
     ]
    },
    "ce2fd69a6d64401a9a14744eefb84b0d": {
     "views": [
      {
       "cell_index": 3
      }
     ]
    },
    "d1ba63ce9700402188631d4eef928e52": {
     "views": [
      {
       "cell_index": 3
      }
     ]
    },
    "d1d112df1e7747e5bd8f9e889c3a2782": {
     "views": [
      {
       "cell_index": 3
      }
     ]
    },
    "d2c68096c2bc40328bb5c83565fd53a9": {
     "views": [
      {
       "cell_index": 3
      }
     ]
    },
    "d2d9dfbe7feb4509b1b2053c17c48bc8": {
     "views": [
      {
       "cell_index": 3
      }
     ]
    },
    "d4712a07aea049d29a4da165096479c5": {
     "views": [
      {
       "cell_index": 3
      }
     ]
    },
    "d511489f79724bea882cfa71470c894b": {
     "views": [
      {
       "cell_index": 3
      }
     ]
    },
    "d5b6fdff0bdd4bfebc34fe882bdcd124": {
     "views": [
      {
       "cell_index": 3
      }
     ]
    },
    "d69a27d242e145c8b308b748d2177aa9": {
     "views": [
      {
       "cell_index": 3
      }
     ]
    },
    "d8c27569bb4c41c4a763d265db53a283": {
     "views": [
      {
       "cell_index": 3
      }
     ]
    },
    "d9c3dd394cae4282a80b583fba3ba7ee": {
     "views": [
      {
       "cell_index": 3
      }
     ]
    },
    "dac7c4c79a964309825592f25598eb08": {
     "views": [
      {
       "cell_index": 3
      }
     ]
    },
    "db46093974a1486193e28acde4118379": {
     "views": [
      {
       "cell_index": 3
      }
     ]
    },
    "db6625e1a0f94054b66b8125f70998c5": {
     "views": [
      {
       "cell_index": 3
      }
     ]
    },
    "df1f7b17f7d349c18d586b452ea0504d": {
     "views": [
      {
       "cell_index": 3
      }
     ]
    },
    "dfdf48916d584d24906f4a1ce2bedd58": {
     "views": [
      {
       "cell_index": 3
      }
     ]
    },
    "e10207ea111741d2b2d5bc9b1919e597": {
     "views": [
      {
       "cell_index": 3
      }
     ]
    },
    "e11bbbc882a34c70a09897362d901906": {
     "views": [
      {
       "cell_index": 4
      }
     ]
    },
    "e243571d50414d15b9b268209d17d292": {
     "views": [
      {
       "cell_index": 3
      }
     ]
    },
    "e3683e4f141340a1b82518e2776f9f9a": {
     "views": [
      {
       "cell_index": 3
      }
     ]
    },
    "e3fe52670ff24d8f8b5fffb5dfab82ef": {
     "views": [
      {
       "cell_index": 3
      }
     ]
    },
    "e4bc9a690ac34f84952500a21dd739b2": {
     "views": [
      {
       "cell_index": 3
      }
     ]
    },
    "e66139a2af8d4507b664083200e4b50b": {
     "views": [
      {
       "cell_index": 3
      }
     ]
    },
    "e8edcc245bc5427294151cda7d7247f2": {
     "views": [
      {
       "cell_index": 3
      }
     ]
    },
    "ea65f1205a2c4e9b900808b0bbc73e04": {
     "views": [
      {
       "cell_index": 3
      }
     ]
    },
    "eb6bc7a8ef6045fdbe9cd9d973331d56": {
     "views": [
      {
       "cell_index": 3
      }
     ]
    },
    "edf40eaa845c4e40b5e54f244c63a444": {
     "views": [
      {
       "cell_index": 3
      }
     ]
    },
    "f0bef73baf7449ea9c3ca07854549565": {
     "views": [
      {
       "cell_index": 3
      }
     ]
    },
    "f2ca8193adc1467a88a8f2b68618c198": {
     "views": [
      {
       "cell_index": 3
      }
     ]
    },
    "f41b63fd37eb42c5910a45a53ea73483": {
     "views": [
      {
       "cell_index": 3
      }
     ]
    },
    "f45c49f37a17486d9fe458759b2a2dec": {
     "views": [
      {
       "cell_index": 4
      }
     ]
    },
    "f49eec68d22546daab89dfc73ab36c79": {
     "views": [
      {
       "cell_index": 3
      }
     ]
    },
    "f5a8a9b236c5459189fb91f095feac5d": {
     "views": [
      {
       "cell_index": 3
      }
     ]
    },
    "f681a813c4114650b818f39395c1a4d9": {
     "views": [
      {
       "cell_index": 3
      }
     ]
    },
    "f716d126b35f4f02878cb96e1e0ecfbb": {
     "views": [
      {
       "cell_index": 3
      }
     ]
    },
    "f8a69d09354042c1b7a847b52943169f": {
     "views": [
      {
       "cell_index": 3
      }
     ]
    },
    "f91eac415d0b4f7398d9374d1af8cb06": {
     "views": [
      {
       "cell_index": 3
      }
     ]
    },
    "f9579449e424400d901d32f2ca14847b": {
     "views": [
      {
       "cell_index": 3
      }
     ]
    },
    "fbfd513b150d4e5d86f7cb4c22ff3490": {
     "views": [
      {
       "cell_index": 3
      }
     ]
    },
    "fd73bbcdbbfc485c8b6edb236b589ed6": {
     "views": [
      {
       "cell_index": 3
      }
     ]
    }
   },
   "version": "1.2.0"
  }
 },
 "nbformat": 4,
 "nbformat_minor": 1
}
